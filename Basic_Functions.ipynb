{
 "cells": [
  {
   "cell_type": "code",
   "execution_count": 1,
   "id": "804bbf19-b5a5-4460-9dc4-b1873975ecd3",
   "metadata": {},
   "outputs": [],
   "source": [
    "import numpy as np\n",
    "import cv2"
   ]
  },
  {
   "cell_type": "code",
   "execution_count": 2,
   "id": "8bc4a1f9-91ea-4e8a-a4af-4ecec728911d",
   "metadata": {},
   "outputs": [],
   "source": [
    "img = cv2.imread(r\"C:\\Users\\divya\\OneDrive\\Pictures\\Screenshots\\Screenshot 2025-06-21 184528.png\")"
   ]
  },
  {
   "cell_type": "code",
   "execution_count": 3,
   "id": "b3f0d0cd-9c59-4f7e-9d91-87b26b152745",
   "metadata": {},
   "outputs": [],
   "source": [
    "kernel = np.ones((5,5),np.uint8)"
   ]
  },
  {
   "cell_type": "code",
   "execution_count": 4,
   "id": "f94870f9-a3bd-4bd2-a94e-510f477f65b2",
   "metadata": {},
   "outputs": [],
   "source": [
    "GrayImg = cv2.cvtColor(img, cv2.COLOR_BGR2GRAY)\n",
    "BlurImg = cv2.GaussianBlur(GrayImg, (7,7),0)\n",
    "CannyImg = cv2.Canny(img,100,150)\n",
    "DilateIMG = cv2.dilate(CannyImg, kernel, iterations = 1)\n",
    "ErodedIMG = cv2.erode(DilateIMG, kernel, iterations = 1)"
   ]
  },
  {
   "cell_type": "code",
   "execution_count": 5,
   "id": "19449aec-275d-43d4-9ac3-9d3050af386f",
   "metadata": {},
   "outputs": [],
   "source": [
    "cv2.namedWindow('Grayscale Image',cv2.WINDOW_NORMAL)\n",
    "cv2.namedWindow('Blur Image',cv2.WINDOW_NORMAL)\n",
    "cv2.namedWindow('Canny Image',cv2.WINDOW_NORMAL)\n",
    "cv2.namedWindow('Dilate Image',cv2.WINDOW_NORMAL)\n",
    "cv2.namedWindow('Eroded Image',cv2.WINDOW_NORMAL)\n",
    "\n",
    "cv2.resizeWindow(\"Grayscale Image\", 400, 300) \n",
    "cv2.resizeWindow(\"Blur Image\", 400, 300) \n",
    "cv2.resizeWindow(\"Canny Image\", 400, 300) \n",
    "cv2.resizeWindow(\"Dilate Image\", 400, 300) \n",
    "cv2.resizeWindow(\"Eroded Image\", 400, 300) \n",
    "\n",
    "cv2.imshow('Grayscale Image', GrayImg)\n",
    "cv2.imshow('Blur Image', BlurImg)\n",
    "cv2.imshow('Canny Image', CannyImg)\n",
    "cv2.imshow('Dilate Image', DilateIMG)\n",
    "cv2.imshow('Eroded Image', ErodedIMG)\n",
    "cv2.waitKey(0)\n",
    "cv2.destroyAllWindows()"
   ]
  },
  {
   "cell_type": "code",
   "execution_count": null,
   "id": "9283480c-76be-4513-965c-ad84749fb599",
   "metadata": {},
   "outputs": [],
   "source": []
  },
  {
   "cell_type": "code",
   "execution_count": null,
   "id": "e6683237-6a60-4c80-9175-ee3255779560",
   "metadata": {},
   "outputs": [],
   "source": []
  },
  {
   "cell_type": "code",
   "execution_count": null,
   "id": "b520e014-9e9c-4f4d-85d2-dc1f2a253f7c",
   "metadata": {},
   "outputs": [],
   "source": []
  }
 ],
 "metadata": {
  "kernelspec": {
   "display_name": "Python 3 (ipykernel)",
   "language": "python",
   "name": "python3"
  },
  "language_info": {
   "codemirror_mode": {
    "name": "ipython",
    "version": 3
   },
   "file_extension": ".py",
   "mimetype": "text/x-python",
   "name": "python",
   "nbconvert_exporter": "python",
   "pygments_lexer": "ipython3",
   "version": "3.12.0"
  }
 },
 "nbformat": 4,
 "nbformat_minor": 5
}
