{
 "cells": [
  {
   "cell_type": "code",
   "execution_count": 1,
   "id": "9930157c-08bd-431e-953c-d06e9d6e7503",
   "metadata": {},
   "outputs": [
    {
     "name": "stdout",
     "output_type": "stream",
     "text": [
      "package imported\n"
     ]
    }
   ],
   "source": [
    "import cv2\n",
    "print('package imported')"
   ]
  },
  {
   "cell_type": "code",
   "execution_count": 2,
   "id": "7c91b79b-989c-41b4-80f5-0c634bd4f118",
   "metadata": {},
   "outputs": [],
   "source": [
    "vid_cap = cv2.VideoCapture(r\"D:\\coding\\Intermediate Practice projects\\Automatic number plate recogniction\\30\\TEST\\TEST.mp4\")"
   ]
  },
  {
   "cell_type": "code",
   "execution_count": 3,
   "id": "5f5dd849-1e54-47ba-9ca7-fb5599754ed3",
   "metadata": {},
   "outputs": [],
   "source": [
    "while True:\n",
    "    success, img = vid_cap.read()\n",
    "    cv2.imshow('Video', img)\n",
    "    if cv2.waitKey(1) & 0xFF == ord('q'):\n",
    "        break\n",
    "cv2.destroyAllWindows()"
   ]
  },
  {
   "cell_type": "code",
   "execution_count": null,
   "id": "d412c99d-3ca3-434c-831f-f23f02263af0",
   "metadata": {},
   "outputs": [],
   "source": []
  }
 ],
 "metadata": {
  "kernelspec": {
   "display_name": "Python 3 (ipykernel)",
   "language": "python",
   "name": "python3"
  },
  "language_info": {
   "codemirror_mode": {
    "name": "ipython",
    "version": 3
   },
   "file_extension": ".py",
   "mimetype": "text/x-python",
   "name": "python",
   "nbconvert_exporter": "python",
   "pygments_lexer": "ipython3",
   "version": "3.12.0"
  }
 },
 "nbformat": 4,
 "nbformat_minor": 5
}
