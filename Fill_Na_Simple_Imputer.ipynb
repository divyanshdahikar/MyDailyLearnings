{
 "cells": [
  {
   "cell_type": "code",
   "execution_count": null,
   "id": "8774c9d1-3cc0-4323-96ec-269ec2299e6c",
   "metadata": {},
   "outputs": [],
   "source": [
    "import pandas as pd\n",
    "import sklearn  as sns"
   ]
  },
  {
   "cell_type": "code",
   "execution_count": null,
   "id": "d14eb0a2-8b9e-4788-ba96-4533a2a22d11",
   "metadata": {},
   "outputs": [],
   "source": [
    "df = pd.read_csv('loan.csv')\n",
    "df.head(3)"
   ]
  },
  {
   "cell_type": "code",
   "execution_count": null,
   "id": "f6168cd2-9e0a-4ba4-90db-b6cca9a5cd43",
   "metadata": {},
   "outputs": [],
   "source": [
    "df.isnull().sum().sum()"
   ]
  },
  {
   "cell_type": "code",
   "execution_count": null,
   "id": "19b729f8-1cb0-4808-aeff-11edd3cf902d",
   "metadata": {},
   "outputs": [],
   "source": [
    "from sklearn.impute import SimpleImputer"
   ]
  },
  {
   "cell_type": "markdown",
   "id": "7cb21c09-4cd5-4ad5-8621-ac4618ccfb8c",
   "metadata": {},
   "source": [
    "#For Numerical Variables"
   ]
  },
  {
   "cell_type": "code",
   "execution_count": null,
   "id": "b46ecd6c-d050-4660-b71f-913015e49988",
   "metadata": {},
   "outputs": [],
   "source": [
    "si = SimpleImputer(strategy = 'mean')\n",
    "ar = si.fit_transform(df[['ApplicantIncome','CoapplicantIncome','LoanAmount','Loan_Amount_Term']])"
   ]
  },
  {
   "cell_type": "code",
   "execution_count": null,
   "id": "73a2f41c-446c-405a-846b-a5de10726750",
   "metadata": {},
   "outputs": [],
   "source": [
    "new_dataset = pd.DataFrame(ar, columns = df.select_dtypes(include = 'float64').columns)"
   ]
  },
  {
   "cell_type": "code",
   "execution_count": null,
   "id": "2b1e3c26-895e-47a2-afdf-724c789d9798",
   "metadata": {},
   "outputs": [],
   "source": [
    "new_dataset.isnull().sum().sum()"
   ]
  },
  {
   "cell_type": "code",
   "execution_count": null,
   "id": "cee0e777-f1dd-4cc4-ad05-537396c97fe2",
   "metadata": {},
   "outputs": [],
   "source": [
    "df.info()"
   ]
  },
  {
   "cell_type": "code",
   "execution_count": null,
   "id": "b6f7dc51-9cf9-4f3b-8154-855e85cb8a14",
   "metadata": {},
   "outputs": [],
   "source": [
    "si = SimpleImputer(strategy ='most_frequent')\n",
    "si.fit(df[['Gender','Married','Dependents','Education','Self_Employed','Property_Area','Loan_Status']])"
   ]
  },
  {
   "cell_type": "code",
   "execution_count": null,
   "id": "35b8d35f-dc40-4189-8cc5-cec10404f386",
   "metadata": {},
   "outputs": [],
   "source": [
    "df[['Gender','Married','Dependents','Education','Self_Employed','Property_Area','Loan_Status']] = si.transform(df[['Gender','Married','Dependents','Education','Self_Employed','Property_Area','Loan_Status']])"
   ]
  },
  {
   "cell_type": "code",
   "execution_count": null,
   "id": "1b778b3d-a966-46ad-a2cb-c3eb953fedea",
   "metadata": {},
   "outputs": [],
   "source": [
    "df"
   ]
  },
  {
   "cell_type": "code",
   "execution_count": null,
   "id": "40b5c4cb-2e4f-41e6-933b-c8bf8d847111",
   "metadata": {},
   "outputs": [],
   "source": [
    "df.isnull().sum()"
   ]
  },
  {
   "cell_type": "code",
   "execution_count": null,
   "id": "13ad90c4-4859-44ee-855f-ce04625e08e3",
   "metadata": {},
   "outputs": [],
   "source": []
  }
 ],
 "metadata": {
  "kernelspec": {
   "display_name": "Python 3 (ipykernel)",
   "language": "python",
   "name": "python3"
  },
  "language_info": {
   "codemirror_mode": {
    "name": "ipython",
    "version": 3
   },
   "file_extension": ".py",
   "mimetype": "text/x-python",
   "name": "python",
   "nbconvert_exporter": "python",
   "pygments_lexer": "ipython3",
   "version": "3.12.0"
  }
 },
 "nbformat": 4,
 "nbformat_minor": 5
}
