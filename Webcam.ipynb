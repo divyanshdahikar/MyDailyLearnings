{
 "cells": [
  {
   "cell_type": "code",
   "execution_count": 1,
   "id": "dd0c6140-be0d-4054-bf58-573d62c5c2c3",
   "metadata": {},
   "outputs": [
    {
     "name": "stdout",
     "output_type": "stream",
     "text": [
      "package imported\n"
     ]
    }
   ],
   "source": [
    "import cv2\n",
    "print('package imported')"
   ]
  },
  {
   "cell_type": "code",
   "execution_count": 5,
   "id": "d05a5d33-24f8-4409-9ff5-385dff9436d0",
   "metadata": {},
   "outputs": [
    {
     "data": {
      "text/plain": [
       "True"
      ]
     },
     "execution_count": 5,
     "metadata": {},
     "output_type": "execute_result"
    }
   ],
   "source": [
    "webcam = cv2.VideoCapture(0)\n",
    "webcam.set(3,640)\n",
    "webcam.set(4,480)\n",
    "# webcam.set(10,100)"
   ]
  },
  {
   "cell_type": "code",
   "execution_count": 6,
   "id": "8353f4d3-36e7-40a2-9413-a9229eab23f1",
   "metadata": {},
   "outputs": [],
   "source": [
    "while True:\n",
    "    success, img = webcam.read()\n",
    "    img = cv2.flip(img,1)\n",
    "    cv2.imshow('Webcam', img)\n",
    "    if cv2.waitKey(1) & 0xFF == ord('q'):\n",
    "        break\n",
    "webcam.release()\n",
    "cv2.destroyAllWindows()"
   ]
  },
  {
   "cell_type": "code",
   "execution_count": null,
   "id": "131237c1-f788-4647-a5d5-a002e6e4c117",
   "metadata": {},
   "outputs": [],
   "source": []
  }
 ],
 "metadata": {
  "kernelspec": {
   "display_name": "Python 3 (ipykernel)",
   "language": "python",
   "name": "python3"
  },
  "language_info": {
   "codemirror_mode": {
    "name": "ipython",
    "version": 3
   },
   "file_extension": ".py",
   "mimetype": "text/x-python",
   "name": "python",
   "nbconvert_exporter": "python",
   "pygments_lexer": "ipython3",
   "version": "3.12.0"
  }
 },
 "nbformat": 4,
 "nbformat_minor": 5
}
